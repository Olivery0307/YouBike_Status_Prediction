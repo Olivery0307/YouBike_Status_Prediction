{
 "cells": [
  {
   "cell_type": "code",
   "execution_count": 1,
   "id": "f92954e9-149d-4853-867c-d36735b805c4",
   "metadata": {},
   "outputs": [],
   "source": [
    "import awswrangler as wr\n",
    "import pandas as pd"
   ]
  },
  {
   "cell_type": "markdown",
   "id": "e1ceb10f-e717-40a6-8758-b1e653ba48a2",
   "metadata": {},
   "source": [
    "### Step 1: Load All Collected Data from S3"
   ]
  },
  {
   "cell_type": "code",
   "execution_count": 2,
   "id": "c5b868c9-671c-482e-970e-e64b199b02b3",
   "metadata": {},
   "outputs": [
    {
     "name": "stdout",
     "output_type": "stream",
     "text": [
      "Loading data from S3... This might take a minute.\n",
      "Data loaded successfully!\n",
      "DataFrame Shape: (15834106, 23)\n",
      "<class 'pandas.core.frame.DataFrame'>\n",
      "RangeIndex: 15834106 entries, 0 to 15834105\n",
      "Data columns (total 23 columns):\n",
      " #   Column                  Dtype         \n",
      "---  ------                  -----         \n",
      " 0   sno                     string        \n",
      " 1   sna                     string        \n",
      " 2   sarea                   string        \n",
      " 3   mday                    string        \n",
      " 4   ar                      string        \n",
      " 5   sareaen                 string        \n",
      " 6   snaen                   string        \n",
      " 7   aren                    string        \n",
      " 8   act                     string        \n",
      " 9   srcUpdateTime           string        \n",
      " 10  updateTime              string        \n",
      " 11  infoTime                string        \n",
      " 12  infoDate                string        \n",
      " 13  total                   Int64         \n",
      " 14  available_rent_bikes    Int64         \n",
      " 15  latitude                float64       \n",
      " 16  longitude               float64       \n",
      " 17  available_return_bikes  Int64         \n",
      " 18  collection_timestamp    datetime64[us]\n",
      " 19  year                    category      \n",
      " 20  month                   category      \n",
      " 21  day                     category      \n",
      " 22  Quantity                Int64         \n",
      "dtypes: Int64(4), category(3), datetime64[us](1), float64(2), string(13)\n",
      "memory usage: 2.5 GB\n"
     ]
    }
   ],
   "source": [
    "s3_path = \"s3://chung-yeh-youbike-poc-data/realtime/\"\n",
    "print(\"Loading data from S3... This might take a minute.\")\n",
    "\n",
    "df = wr.s3.read_parquet(path=s3_path, dataset=True)\n",
    "print(\"Data loaded successfully!\")\n",
    "\n",
    "#Verification\n",
    "print(f\"DataFrame Shape: {df.shape}\")\n",
    "df.info()"
   ]
  },
  {
   "cell_type": "markdown",
   "id": "386e4a67-9706-4813-8023-1b4c84bc0ab0",
   "metadata": {},
   "source": [
    "### Step 2: Data Cleaning & Type Conversion"
   ]
  },
  {
   "cell_type": "code",
   "execution_count": 3,
   "id": "24856ce2-36de-41fb-8ba1-9857a2c9a21d",
   "metadata": {},
   "outputs": [],
   "source": [
    "# 1. Convert API timestamp columns to proper datetime objects\n",
    "df['mday'] = pd.to_datetime(df['mday'])\n",
    "df['updateTime'] = pd.to_datetime(df['updateTime'])\n",
    "df['infoTime'] = pd.to_datetime(df['infoTime'])"
   ]
  },
  {
   "cell_type": "code",
   "execution_count": 6,
   "id": "3bfaaf71-4454-44a5-b445-31f3522907a3",
   "metadata": {},
   "outputs": [
    {
     "name": "stdout",
     "output_type": "stream",
     "text": [
      "Dropped unnecessary columns.\n"
     ]
    }
   ],
   "source": [
    "# 2. Drop unnecessary or redundant columns\n",
    "columns_to_drop = ['srcUpdateTime', 'infoDate', 'year', 'month', 'day',\"Quantity\"]\n",
    "df = df.drop(columns=columns_to_drop)\n",
    "print(\"Dropped unnecessary columns.\")"
   ]
  },
  {
   "cell_type": "code",
   "execution_count": 7,
   "id": "072c8dc1-f34f-46f1-a638-ddd7337755c9",
   "metadata": {},
   "outputs": [
    {
     "name": "stdout",
     "output_type": "stream",
     "text": [
      "Original shape: (15834106, 17)\n",
      "Shape after dropping duplicates: (15823996, 17)\n"
     ]
    }
   ],
   "source": [
    "# 3. Handle Duplicates\n",
    "print(f\"Original shape: {df.shape}\")\n",
    "df = df.drop_duplicates(subset=['sno', 'collection_timestamp'], keep='last')\n",
    "print(f\"Shape after dropping duplicates: {df.shape}\")"
   ]
  },
  {
   "cell_type": "code",
   "execution_count": 8,
   "id": "8e4fad86-7cad-453d-a85d-2dd0e7a5e17e",
   "metadata": {},
   "outputs": [
    {
     "name": "stdout",
     "output_type": "stream",
     "text": [
      "Set and sorted a multi-index.\n"
     ]
    }
   ],
   "source": [
    "# 4. Set a Multi-Index\n",
    "df = df.set_index(['sno', 'collection_timestamp']).sort_index()\n",
    "print(\"Set and sorted a multi-index.\")"
   ]
  },
  {
   "cell_type": "code",
   "execution_count": 9,
   "id": "5ac6c979-55a4-41b3-ae7e-b59020d48099",
   "metadata": {},
   "outputs": [
    {
     "name": "stdout",
     "output_type": "stream",
     "text": [
      "\n",
      "Cleaned DataFrame Info:\n",
      "<class 'pandas.core.frame.DataFrame'>\n",
      "MultiIndex: 15823996 entries, ('500101001', Timestamp('2025-06-18 15:03:19.766456')) to ('500119097', Timestamp('2025-07-22 16:33:15.789889'))\n",
      "Data columns (total 15 columns):\n",
      " #   Column                  Dtype         \n",
      "---  ------                  -----         \n",
      " 0   sna                     string        \n",
      " 1   sarea                   string        \n",
      " 2   mday                    datetime64[ns]\n",
      " 3   ar                      string        \n",
      " 4   sareaen                 string        \n",
      " 5   snaen                   string        \n",
      " 6   aren                    string        \n",
      " 7   act                     string        \n",
      " 8   updateTime              datetime64[ns]\n",
      " 9   infoTime                datetime64[ns]\n",
      " 10  total                   Int64         \n",
      " 11  available_rent_bikes    Int64         \n",
      " 12  latitude                float64       \n",
      " 13  longitude               float64       \n",
      " 14  available_return_bikes  Int64         \n",
      "dtypes: Int64(3), datetime64[ns](3), float64(2), string(7)\n",
      "memory usage: 1.9+ GB\n",
      "\n",
      "Cleaned DataFrame Head:\n",
      "                                                     sna sarea  \\\n",
      "sno       collection_timestamp                                   \n",
      "500101001 2025-06-18 15:03:19.766456  YouBike2.0_捷運科技大樓站   大安區   \n",
      "          2025-06-18 15:08:15.925407  YouBike2.0_捷運科技大樓站   大安區   \n",
      "          2025-06-18 15:13:15.744279  YouBike2.0_捷運科技大樓站   大安區   \n",
      "          2025-06-18 15:18:15.684246  YouBike2.0_捷運科技大樓站   大安區   \n",
      "          2025-06-18 15:23:15.863098  YouBike2.0_捷運科技大樓站   大安區   \n",
      "\n",
      "                                                    mday           ar  \\\n",
      "sno       collection_timestamp                                          \n",
      "500101001 2025-06-18 15:03:19.766456 2025-06-18 23:02:03  復興南路二段235號前   \n",
      "          2025-06-18 15:08:15.925407 2025-06-18 23:07:02  復興南路二段235號前   \n",
      "          2025-06-18 15:13:15.744279 2025-06-18 23:10:19  復興南路二段235號前   \n",
      "          2025-06-18 15:18:15.684246 2025-06-18 23:17:03  復興南路二段235號前   \n",
      "          2025-06-18 15:23:15.863098 2025-06-18 23:21:02  復興南路二段235號前   \n",
      "\n",
      "                                         sareaen  \\\n",
      "sno       collection_timestamp                     \n",
      "500101001 2025-06-18 15:03:19.766456  Daan Dist.   \n",
      "          2025-06-18 15:08:15.925407  Daan Dist.   \n",
      "          2025-06-18 15:13:15.744279  Daan Dist.   \n",
      "          2025-06-18 15:18:15.684246  Daan Dist.   \n",
      "          2025-06-18 15:23:15.863098  Daan Dist.   \n",
      "\n",
      "                                                                     snaen  \\\n",
      "sno       collection_timestamp                                               \n",
      "500101001 2025-06-18 15:03:19.766456  YouBike2.0_MRT Technology Bldg. Sta.   \n",
      "          2025-06-18 15:08:15.925407  YouBike2.0_MRT Technology Bldg. Sta.   \n",
      "          2025-06-18 15:13:15.744279  YouBike2.0_MRT Technology Bldg. Sta.   \n",
      "          2025-06-18 15:18:15.684246  YouBike2.0_MRT Technology Bldg. Sta.   \n",
      "          2025-06-18 15:23:15.863098  YouBike2.0_MRT Technology Bldg. Sta.   \n",
      "\n",
      "                                                               aren act  \\\n",
      "sno       collection_timestamp                                            \n",
      "500101001 2025-06-18 15:03:19.766456  No.235， Sec. 2， Fuxing S. Rd.   1   \n",
      "          2025-06-18 15:08:15.925407  No.235， Sec. 2， Fuxing S. Rd.   1   \n",
      "          2025-06-18 15:13:15.744279  No.235， Sec. 2， Fuxing S. Rd.   1   \n",
      "          2025-06-18 15:18:15.684246  No.235， Sec. 2， Fuxing S. Rd.   1   \n",
      "          2025-06-18 15:23:15.863098  No.235， Sec. 2， Fuxing S. Rd.   1   \n",
      "\n",
      "                                              updateTime            infoTime  \\\n",
      "sno       collection_timestamp                                                 \n",
      "500101001 2025-06-18 15:03:19.766456 2025-06-18 23:02:52 2025-06-18 23:02:03   \n",
      "          2025-06-18 15:08:15.925407 2025-06-18 23:07:52 2025-06-18 23:07:02   \n",
      "          2025-06-18 15:13:15.744279 2025-06-18 23:12:52 2025-06-18 23:10:19   \n",
      "          2025-06-18 15:18:15.684246 2025-06-18 23:17:52 2025-06-18 23:17:03   \n",
      "          2025-06-18 15:23:15.863098 2025-06-18 23:22:52 2025-06-18 23:21:02   \n",
      "\n",
      "                                      total  available_rent_bikes  latitude  \\\n",
      "sno       collection_timestamp                                                \n",
      "500101001 2025-06-18 15:03:19.766456     28                     1  25.02605   \n",
      "          2025-06-18 15:08:15.925407     28                     0  25.02605   \n",
      "          2025-06-18 15:13:15.744279     28                     1  25.02605   \n",
      "          2025-06-18 15:18:15.684246     28                     0  25.02605   \n",
      "          2025-06-18 15:23:15.863098     28                     0  25.02605   \n",
      "\n",
      "                                      longitude  available_return_bikes  \n",
      "sno       collection_timestamp                                           \n",
      "500101001 2025-06-18 15:03:19.766456   121.5436                      25  \n",
      "          2025-06-18 15:08:15.925407   121.5436                      26  \n",
      "          2025-06-18 15:13:15.744279   121.5436                      25  \n",
      "          2025-06-18 15:18:15.684246   121.5436                      26  \n",
      "          2025-06-18 15:23:15.863098   121.5436                      26  \n"
     ]
    }
   ],
   "source": [
    "# Verification\n",
    "print(\"\\nCleaned DataFrame Info:\")\n",
    "df.info()\n",
    "print(\"\\nCleaned DataFrame Head:\")\n",
    "print(df.head())"
   ]
  },
  {
   "cell_type": "markdown",
   "id": "daebe05c-b023-485f-aaf2-33fed2a3ee6b",
   "metadata": {},
   "source": [
    "### Step 4: Feature Engineering"
   ]
  },
  {
   "cell_type": "code",
   "execution_count": 11,
   "id": "59b33342-ed32-4420-afaa-e774ece40715",
   "metadata": {},
   "outputs": [
    {
     "name": "stdout",
     "output_type": "stream",
     "text": [
      "Creating time-based features...\n",
      "                                      hour  day_of_week  is_weekend\n",
      "sno       collection_timestamp                                     \n",
      "500101001 2025-06-18 15:03:19.766456    15            2           0\n",
      "          2025-06-18 15:08:15.925407    15            2           0\n",
      "          2025-06-18 15:13:15.744279    15            2           0\n",
      "          2025-06-18 15:18:15.684246    15            2           0\n",
      "          2025-06-18 15:23:15.863098    15            2           0\n"
     ]
    }
   ],
   "source": [
    "# 1. Create Time-Based Features\n",
    "print(\"Creating time-based features...\")\n",
    "# We reset the index to access 'collection_timestamp' as a column\n",
    "df.reset_index(inplace=True)\n",
    "df['hour'] = df['collection_timestamp'].dt.hour\n",
    "df['day_of_week'] = df['collection_timestamp'].dt.dayofweek # Monday=0, Sunday=6\n",
    "df['is_weekend'] = (df['day_of_week'] >= 5).astype(int)\n",
    "df.set_index(['sno', 'collection_timestamp'], inplace=True) # Set the index back\n",
    "print(df[['hour', 'day_of_week', 'is_weekend']].head())"
   ]
  },
  {
   "cell_type": "code",
   "execution_count": 12,
   "id": "f13565c5-d362-46b8-9017-80cb1ccbddfa",
   "metadata": {},
   "outputs": [
    {
     "name": "stdout",
     "output_type": "stream",
     "text": [
      "\n",
      "Creating the target variable 'status_in_15_mins'...\n",
      "\n",
      "Target variable created. Value counts:\n",
      "status_in_15_mins\n",
      "HEALTHY    0.752322\n",
      "LOW        0.172733\n",
      "EMPTY      0.054585\n",
      "FULL       0.020360\n",
      "Name: proportion, dtype: float64\n"
     ]
    }
   ],
   "source": [
    "# 2. Create the Target Variable\n",
    "print(\"\\nCreating the target variable 'status_in_15_mins'...\")\n",
    "\n",
    "# Predict the state 15 minutes from now (3 steps in the future)\n",
    "SHIFT_PERIOD = -3\n",
    "\n",
    "# We must sort the data before shifting to ensure we get the correct future value.\n",
    "df.sort_values(['sno', 'collection_timestamp'], inplace=True)\n",
    "\n",
    "# Ensure we only look at the future of the same station(3 rows in the future)\n",
    "future_bikes = df.groupby('sno')['available_rent_bikes'].shift(SHIFT_PERIOD)\n",
    "future_docks = df.groupby('sno')['available_return_bikes'].shift(SHIFT_PERIOD)\n",
    "\n",
    "# Define the conditions for our classification target\n",
    "# Handle NaN values at the end of each group, preventing the TypeError.\n",
    "conditions = [\n",
    "    (future_bikes == 0).fillna(False),\n",
    "    (future_docks == 0).fillna(False),\n",
    "    (future_bikes <= 3).fillna(False)\n",
    "]\n",
    "\n",
    "# Define the outcomes for each condition\n",
    "outcomes = ['EMPTY', 'FULL', 'LOW']\n",
    "\n",
    "# Create the target column.\n",
    "# If none of the conditions are met, the default value is 'HEALTHY'.\n",
    "import numpy as np\n",
    "df['status_in_15_mins'] = np.select(conditions, outcomes, default='HEALTHY')\n",
    "\n",
    "# Drop the rows where the target is NaN\n",
    "df.dropna(subset=['status_in_15_mins'], inplace=True)\n",
    "\n",
    "print(\"\\nTarget variable created. Value counts:\")\n",
    "print(df['status_in_15_mins'].value_counts(normalize=True))"
   ]
  },
  {
   "cell_type": "code",
   "execution_count": 13,
   "id": "dc3e91af-6a4c-43a5-b3c4-69fd427175db",
   "metadata": {},
   "outputs": [
    {
     "name": "stdout",
     "output_type": "stream",
     "text": [
      "\n",
      "Saving final dataset to s3://chung-yeh-youbike-poc-data/processed/youbike_data_for_modeling.parquet...\n",
      "Final dataset saved successfully!\n"
     ]
    }
   ],
   "source": [
    "# 3. Save Final Dataset for Modeling\n",
    "final_s3_path = \"s3://chung-yeh-youbike-poc-data/processed/youbike_data_for_modeling.parquet\"\n",
    "print(f\"\\nSaving final dataset to {final_s3_path}...\")\n",
    "wr.s3.to_parquet(df=df, path=final_s3_path, index=True)\n",
    "print(\"Final dataset saved successfully!\")"
   ]
  }
 ],
 "metadata": {
  "kernelspec": {
   "display_name": "Python 3 (ipykernel)",
   "language": "python",
   "name": "python3"
  },
  "language_info": {
   "codemirror_mode": {
    "name": "ipython",
    "version": 3
   },
   "file_extension": ".py",
   "mimetype": "text/x-python",
   "name": "python",
   "nbconvert_exporter": "python",
   "pygments_lexer": "ipython3",
   "version": "3.11.9"
  }
 },
 "nbformat": 4,
 "nbformat_minor": 5
}
