{
 "cells": [
  {
   "cell_type": "markdown",
   "id": "f25c5002-aefc-4a58-9900-d6fcc99771fb",
   "metadata": {},
   "source": [
    "## import the library/files"
   ]
  },
  {
   "cell_type": "code",
   "execution_count": null,
   "id": "6cef3d45-7711-4b89-87fd-4461fbbc4a7a",
   "metadata": {},
   "outputs": [],
   "source": [
    "import requests\n",
    "import pandas as pd\n",
    "import json"
   ]
  },
  {
   "cell_type": "code",
   "execution_count": 2,
   "id": "2d22f5a9-2a2a-4aa3-9658-83e86e7feca1",
   "metadata": {},
   "outputs": [
    {
     "name": "stdout",
     "output_type": "stream",
     "text": [
      "Attempting to fetch data from: https://tcgbusfs.blob.core.windows.net/dotapp/youbike/v2/youbike_immediate.json\n",
      "\n"
     ]
    }
   ],
   "source": [
    "# Define the URL for the YouBike real-time data\n",
    "url = \"https://tcgbusfs.blob.core.windows.net/dotapp/youbike/v2/youbike_immediate.json\"\n",
    "\n",
    "print(f\"Attempting to fetch data from: {url}\\n\")"
   ]
  },
  {
   "cell_type": "code",
   "execution_count": 3,
   "id": "acbfa14a-9224-40b1-8419-fda287305d50",
   "metadata": {},
   "outputs": [
    {
     "name": "stdout",
     "output_type": "stream",
     "text": [
      "Data fetched successfully! Number of stations received: 1594\n"
     ]
    }
   ],
   "source": [
    "# Send a GET request to the URL\n",
    "response = requests.get(url)\n",
    "\n",
    "# Check if the request was successful (status code 200)\n",
    "response.raise_for_status() # This will raise an HTTPError for bad responses (4xx or 5xx)\n",
    "\n",
    "# Parse the JSON response\n",
    "data = response.json()\n",
    "\n",
    "print(\"Data fetched successfully! Number of stations received:\", len(data))"
   ]
  },
  {
   "cell_type": "markdown",
   "id": "d56782f0-d981-438b-abe4-eef4e82f3cff",
   "metadata": {},
   "source": [
    "## Data Exploration"
   ]
  },
  {
   "cell_type": "code",
   "execution_count": 4,
   "id": "71ee0ecf-88a9-4417-917b-35a300938a13",
   "metadata": {},
   "outputs": [
    {
     "data": {
      "text/html": [
       "<div>\n",
       "<style scoped>\n",
       "    .dataframe tbody tr th:only-of-type {\n",
       "        vertical-align: middle;\n",
       "    }\n",
       "\n",
       "    .dataframe tbody tr th {\n",
       "        vertical-align: top;\n",
       "    }\n",
       "\n",
       "    .dataframe thead th {\n",
       "        text-align: right;\n",
       "    }\n",
       "</style>\n",
       "<table border=\"1\" class=\"dataframe\">\n",
       "  <thead>\n",
       "    <tr style=\"text-align: right;\">\n",
       "      <th></th>\n",
       "      <th>sno</th>\n",
       "      <th>sna</th>\n",
       "      <th>sarea</th>\n",
       "      <th>mday</th>\n",
       "      <th>ar</th>\n",
       "      <th>sareaen</th>\n",
       "      <th>snaen</th>\n",
       "      <th>aren</th>\n",
       "      <th>act</th>\n",
       "      <th>srcUpdateTime</th>\n",
       "      <th>updateTime</th>\n",
       "      <th>infoTime</th>\n",
       "      <th>infoDate</th>\n",
       "      <th>total</th>\n",
       "      <th>available_rent_bikes</th>\n",
       "      <th>latitude</th>\n",
       "      <th>longitude</th>\n",
       "      <th>available_return_bikes</th>\n",
       "    </tr>\n",
       "  </thead>\n",
       "  <tbody>\n",
       "    <tr>\n",
       "      <th>0</th>\n",
       "      <td>500101001</td>\n",
       "      <td>YouBike2.0_捷運科技大樓站</td>\n",
       "      <td>大安區</td>\n",
       "      <td>2025-06-09 22:00:04</td>\n",
       "      <td>復興南路二段235號前</td>\n",
       "      <td>Daan Dist.</td>\n",
       "      <td>YouBike2.0_MRT Technology Bldg. Sta.</td>\n",
       "      <td>No.235， Sec. 2， Fuxing S. Rd.</td>\n",
       "      <td>1</td>\n",
       "      <td>2025-06-09 22:12:29</td>\n",
       "      <td>2025-06-09 22:12:51</td>\n",
       "      <td>2025-06-09 22:00:04</td>\n",
       "      <td>2025-06-09</td>\n",
       "      <td>28</td>\n",
       "      <td>4</td>\n",
       "      <td>25.02605</td>\n",
       "      <td>121.54360</td>\n",
       "      <td>24</td>\n",
       "    </tr>\n",
       "    <tr>\n",
       "      <th>1</th>\n",
       "      <td>500101002</td>\n",
       "      <td>YouBike2.0_復興南路二段273號前</td>\n",
       "      <td>大安區</td>\n",
       "      <td>2025-06-09 22:00:04</td>\n",
       "      <td>復興南路二段273號西側</td>\n",
       "      <td>Daan Dist.</td>\n",
       "      <td>YouBike2.0_No.273， Sec. 2， Fuxing S. Rd.</td>\n",
       "      <td>No.273， Sec. 2， Fuxing S. Rd. (West)</td>\n",
       "      <td>1</td>\n",
       "      <td>2025-06-09 22:12:29</td>\n",
       "      <td>2025-06-09 22:12:51</td>\n",
       "      <td>2025-06-09 22:00:04</td>\n",
       "      <td>2025-06-09</td>\n",
       "      <td>21</td>\n",
       "      <td>7</td>\n",
       "      <td>25.02565</td>\n",
       "      <td>121.54357</td>\n",
       "      <td>14</td>\n",
       "    </tr>\n",
       "    <tr>\n",
       "      <th>2</th>\n",
       "      <td>500101003</td>\n",
       "      <td>YouBike2.0_國北教大實小東側門</td>\n",
       "      <td>大安區</td>\n",
       "      <td>2025-06-09 22:03:02</td>\n",
       "      <td>和平東路二段96巷7號</td>\n",
       "      <td>Daan Dist.</td>\n",
       "      <td>YouBike2.0_NTUE Experiment Elementary School (...</td>\n",
       "      <td>No. 7， Ln. 96， Sec. 2， Heping E. Rd</td>\n",
       "      <td>1</td>\n",
       "      <td>2025-06-09 22:12:29</td>\n",
       "      <td>2025-06-09 22:12:51</td>\n",
       "      <td>2025-06-09 22:03:02</td>\n",
       "      <td>2025-06-09</td>\n",
       "      <td>28</td>\n",
       "      <td>19</td>\n",
       "      <td>25.02429</td>\n",
       "      <td>121.54124</td>\n",
       "      <td>9</td>\n",
       "    </tr>\n",
       "    <tr>\n",
       "      <th>3</th>\n",
       "      <td>500101004</td>\n",
       "      <td>YouBike2.0_和平公園東側</td>\n",
       "      <td>大安區</td>\n",
       "      <td>2025-06-09 22:03:02</td>\n",
       "      <td>和平東路二段118巷33號</td>\n",
       "      <td>Daan Dist.</td>\n",
       "      <td>YouBike2.0_Heping Park (East)</td>\n",
       "      <td>No. 33， Ln. 118， Sec. 2， Heping E. Rd</td>\n",
       "      <td>1</td>\n",
       "      <td>2025-06-09 22:12:29</td>\n",
       "      <td>2025-06-09 22:12:51</td>\n",
       "      <td>2025-06-09 22:03:02</td>\n",
       "      <td>2025-06-09</td>\n",
       "      <td>11</td>\n",
       "      <td>5</td>\n",
       "      <td>25.02351</td>\n",
       "      <td>121.54282</td>\n",
       "      <td>6</td>\n",
       "    </tr>\n",
       "    <tr>\n",
       "      <th>4</th>\n",
       "      <td>500101005</td>\n",
       "      <td>YouBike2.0_辛亥復興路口西北側</td>\n",
       "      <td>大安區</td>\n",
       "      <td>2025-06-09 22:00:04</td>\n",
       "      <td>復興南路二段368號</td>\n",
       "      <td>Daan Dist.</td>\n",
       "      <td>YouBike2.0_Xinhai Fuxing Rd. Intersection (Nor...</td>\n",
       "      <td>No. 368， Sec. 2， Fuxing S. Rd.</td>\n",
       "      <td>1</td>\n",
       "      <td>2025-06-09 22:12:29</td>\n",
       "      <td>2025-06-09 22:12:51</td>\n",
       "      <td>2025-06-09 22:00:04</td>\n",
       "      <td>2025-06-09</td>\n",
       "      <td>16</td>\n",
       "      <td>8</td>\n",
       "      <td>25.02153</td>\n",
       "      <td>121.54299</td>\n",
       "      <td>8</td>\n",
       "    </tr>\n",
       "  </tbody>\n",
       "</table>\n",
       "</div>"
      ],
      "text/plain": [
       "         sno                     sna sarea                 mday  \\\n",
       "0  500101001      YouBike2.0_捷運科技大樓站   大安區  2025-06-09 22:00:04   \n",
       "1  500101002  YouBike2.0_復興南路二段273號前   大安區  2025-06-09 22:00:04   \n",
       "2  500101003    YouBike2.0_國北教大實小東側門   大安區  2025-06-09 22:03:02   \n",
       "3  500101004       YouBike2.0_和平公園東側   大安區  2025-06-09 22:03:02   \n",
       "4  500101005    YouBike2.0_辛亥復興路口西北側   大安區  2025-06-09 22:00:04   \n",
       "\n",
       "              ar     sareaen  \\\n",
       "0    復興南路二段235號前  Daan Dist.   \n",
       "1   復興南路二段273號西側  Daan Dist.   \n",
       "2    和平東路二段96巷7號  Daan Dist.   \n",
       "3  和平東路二段118巷33號  Daan Dist.   \n",
       "4     復興南路二段368號  Daan Dist.   \n",
       "\n",
       "                                               snaen  \\\n",
       "0               YouBike2.0_MRT Technology Bldg. Sta.   \n",
       "1           YouBike2.0_No.273， Sec. 2， Fuxing S. Rd.   \n",
       "2  YouBike2.0_NTUE Experiment Elementary School (...   \n",
       "3                      YouBike2.0_Heping Park (East)   \n",
       "4  YouBike2.0_Xinhai Fuxing Rd. Intersection (Nor...   \n",
       "\n",
       "                                    aren act        srcUpdateTime  \\\n",
       "0          No.235， Sec. 2， Fuxing S. Rd.   1  2025-06-09 22:12:29   \n",
       "1   No.273， Sec. 2， Fuxing S. Rd. (West)   1  2025-06-09 22:12:29   \n",
       "2    No. 7， Ln. 96， Sec. 2， Heping E. Rd   1  2025-06-09 22:12:29   \n",
       "3  No. 33， Ln. 118， Sec. 2， Heping E. Rd   1  2025-06-09 22:12:29   \n",
       "4         No. 368， Sec. 2， Fuxing S. Rd.   1  2025-06-09 22:12:29   \n",
       "\n",
       "            updateTime             infoTime    infoDate  total  \\\n",
       "0  2025-06-09 22:12:51  2025-06-09 22:00:04  2025-06-09     28   \n",
       "1  2025-06-09 22:12:51  2025-06-09 22:00:04  2025-06-09     21   \n",
       "2  2025-06-09 22:12:51  2025-06-09 22:03:02  2025-06-09     28   \n",
       "3  2025-06-09 22:12:51  2025-06-09 22:03:02  2025-06-09     11   \n",
       "4  2025-06-09 22:12:51  2025-06-09 22:00:04  2025-06-09     16   \n",
       "\n",
       "   available_rent_bikes  latitude  longitude  available_return_bikes  \n",
       "0                     4  25.02605  121.54360                      24  \n",
       "1                     7  25.02565  121.54357                      14  \n",
       "2                    19  25.02429  121.54124                       9  \n",
       "3                     5  25.02351  121.54282                       6  \n",
       "4                     8  25.02153  121.54299                       8  "
      ]
     },
     "execution_count": 4,
     "metadata": {},
     "output_type": "execute_result"
    }
   ],
   "source": [
    "df = pd.DataFrame(data)\n",
    "df.head()"
   ]
  },
  {
   "cell_type": "markdown",
   "id": "1f4fca54-ca59-457f-84bd-d5d7883a110d",
   "metadata": {},
   "source": [
    "## DataFrame Info"
   ]
  },
  {
   "cell_type": "code",
   "execution_count": 5,
   "id": "622a975f-e0ab-4106-aea4-ff95786810b6",
   "metadata": {},
   "outputs": [
    {
     "name": "stdout",
     "output_type": "stream",
     "text": [
      "<class 'pandas.core.frame.DataFrame'>\n",
      "RangeIndex: 1594 entries, 0 to 1593\n",
      "Data columns (total 18 columns):\n",
      " #   Column                  Non-Null Count  Dtype  \n",
      "---  ------                  --------------  -----  \n",
      " 0   sno                     1594 non-null   object \n",
      " 1   sna                     1594 non-null   object \n",
      " 2   sarea                   1594 non-null   object \n",
      " 3   mday                    1594 non-null   object \n",
      " 4   ar                      1594 non-null   object \n",
      " 5   sareaen                 1594 non-null   object \n",
      " 6   snaen                   1594 non-null   object \n",
      " 7   aren                    1594 non-null   object \n",
      " 8   act                     1594 non-null   object \n",
      " 9   srcUpdateTime           1594 non-null   object \n",
      " 10  updateTime              1594 non-null   object \n",
      " 11  infoTime                1594 non-null   object \n",
      " 12  infoDate                1594 non-null   object \n",
      " 13  total                   1594 non-null   int64  \n",
      " 14  available_rent_bikes    1594 non-null   int64  \n",
      " 15  latitude                1594 non-null   float64\n",
      " 16  longitude               1594 non-null   float64\n",
      " 17  available_return_bikes  1594 non-null   int64  \n",
      "dtypes: float64(2), int64(3), object(13)\n",
      "memory usage: 224.3+ KB\n"
     ]
    }
   ],
   "source": [
    "df.info()"
   ]
  },
  {
   "cell_type": "markdown",
   "id": "bc9f6d96-90d8-4cd3-8509-5c2df1ada2ae",
   "metadata": {},
   "source": [
    "### Get descriptive statistics for numerical columns"
   ]
  },
  {
   "cell_type": "code",
   "execution_count": 6,
   "id": "9248b577-a50a-4d44-bbc4-04fca0633aae",
   "metadata": {},
   "outputs": [
    {
     "name": "stdout",
     "output_type": "stream",
     "text": [
      "             total  available_rent_bikes     latitude    longitude  \\\n",
      "count  1594.000000           1594.000000  1594.000000  1594.000000   \n",
      "mean     26.925972             10.550816    25.052868   121.544913   \n",
      "std      13.487044              9.120880     0.033285     0.031795   \n",
      "min       5.000000              0.000000    24.976190   121.462280   \n",
      "25%      17.000000              4.000000    25.029930   121.522255   \n",
      "50%      24.000000              9.000000    25.049945   121.541120   \n",
      "75%      32.000000             15.000000    25.072722   121.566055   \n",
      "max      99.000000             69.000000    25.145820   121.623060   \n",
      "\n",
      "       available_return_bikes  \n",
      "count             1594.000000  \n",
      "mean                15.732120  \n",
      "std                 12.317586  \n",
      "min                  0.000000  \n",
      "25%                  7.000000  \n",
      "50%                 13.000000  \n",
      "75%                 21.000000  \n",
      "max                 89.000000  \n"
     ]
    }
   ],
   "source": [
    "print(df.describe(include='number'))"
   ]
  },
  {
   "cell_type": "markdown",
   "id": "bd7c2522-c5c6-4cbd-b92d-161df2d310f8",
   "metadata": {},
   "source": [
    "### Check for missing values in each column"
   ]
  },
  {
   "cell_type": "code",
   "execution_count": 7,
   "id": "496f2268-cc03-4e1c-8d5f-71c0964012ce",
   "metadata": {},
   "outputs": [
    {
     "name": "stdout",
     "output_type": "stream",
     "text": [
      "sno                       0\n",
      "sna                       0\n",
      "sarea                     0\n",
      "mday                      0\n",
      "ar                        0\n",
      "sareaen                   0\n",
      "snaen                     0\n",
      "aren                      0\n",
      "act                       0\n",
      "srcUpdateTime             0\n",
      "updateTime                0\n",
      "infoTime                  0\n",
      "infoDate                  0\n",
      "total                     0\n",
      "available_rent_bikes      0\n",
      "latitude                  0\n",
      "longitude                 0\n",
      "available_return_bikes    0\n",
      "dtype: int64\n"
     ]
    }
   ],
   "source": [
    "print(df.isnull().sum())"
   ]
  },
  {
   "cell_type": "markdown",
   "id": "b25bd8d5-a11b-4af9-b350-9f9ca1c240a3",
   "metadata": {},
   "source": [
    "### Check unique values for some key categorical columns"
   ]
  },
  {
   "cell_type": "code",
   "execution_count": 8,
   "id": "a63e3d83-9b5a-4a82-b19b-4d585816be9b",
   "metadata": {},
   "outputs": [
    {
     "name": "stdout",
     "output_type": "stream",
     "text": [
      "Unique values for 'sarea' (District):\n",
      "['大安區' '大同區' '士林區' '文山區' '中正區' '中山區' '內湖區' '北投區' '松山區' '南港區' '信義區' '萬華區'\n",
      " '臺大公館校區']\n",
      "Unique values for 'act' (Active Status):\n",
      "['1' '0']\n"
     ]
    }
   ],
   "source": [
    "print(\"Unique values for 'sarea' (District):\")\n",
    "print(df['sarea'].unique())\n",
    "\n",
    "print(\"Unique values for 'act' (Active Status):\")\n",
    "print(df['act'].unique())"
   ]
  },
  {
   "cell_type": "markdown",
   "id": "0c297d4f-81ca-4ca4-9431-cca10eff23ba",
   "metadata": {},
   "source": [
    "### Check the data types of 'mday', 'srcUpdateTime', 'updateTime', 'infoTime', 'infoDate'"
   ]
  },
  {
   "cell_type": "code",
   "execution_count": 9,
   "id": "5827fa59-04f8-45e3-bdad-3bcd5483fc04",
   "metadata": {},
   "outputs": [
    {
     "name": "stdout",
     "output_type": "stream",
     "text": [
      "mday             object\n",
      "srcUpdateTime    object\n",
      "updateTime       object\n",
      "infoTime         object\n",
      "infoDate         object\n",
      "dtype: object\n"
     ]
    }
   ],
   "source": [
    "print(df[['mday', 'srcUpdateTime', 'updateTime', 'infoTime', 'infoDate']].dtypes)"
   ]
  }
 ],
 "metadata": {
  "kernelspec": {
   "display_name": "Python 3 (ipykernel)",
   "language": "python",
   "name": "python3"
  },
  "language_info": {
   "codemirror_mode": {
    "name": "ipython",
    "version": 3
   },
   "file_extension": ".py",
   "mimetype": "text/x-python",
   "name": "python",
   "nbconvert_exporter": "python",
   "pygments_lexer": "ipython3",
   "version": "3.11.9"
  }
 },
 "nbformat": 4,
 "nbformat_minor": 5
}
