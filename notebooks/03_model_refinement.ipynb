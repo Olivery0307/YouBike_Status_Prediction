{
 "cells": [
  {
   "cell_type": "code",
   "execution_count": 1,
   "id": "81a2b885-6120-4a12-8321-e51cf9f95806",
   "metadata": {},
   "outputs": [],
   "source": [
    "import awswrangler as wr\n",
    "import pandas as pd\n",
    "import numpy as np"
   ]
  },
  {
   "cell_type": "code",
   "execution_count": 2,
   "id": "a2136a5a-8aab-4822-a901-6e44894e098f",
   "metadata": {},
   "outputs": [
    {
     "name": "stdout",
     "output_type": "stream",
     "text": [
      "Loading dataset from s3://chung-yeh-youbike-poc-data/processed/youbike_data_for_modeling.parquet...\n",
      "Dataset loaded successfully!\n"
     ]
    }
   ],
   "source": [
    "# Load the CLEANED dataset we prepared in the previous phase\n",
    "cleaned_s3_path = \"s3://chung-yeh-youbike-poc-data/processed/youbike_data_for_modeling.parquet\"\n",
    "print(f\"Loading dataset from {cleaned_s3_path}...\")\n",
    "df = wr.s3.read_parquet(path=cleaned_s3_path)\n",
    "print(\"Dataset loaded successfully!\")\n",
    "\n",
    "df.reset_index(inplace=True)"
   ]
  },
  {
   "cell_type": "markdown",
   "id": "d991efc7-d5fb-4d68-bf2e-733ccd5219e1",
   "metadata": {},
   "source": [
    "## Advanced Feature Engineering (Lags & Rolling Windows)"
   ]
  },
  {
   "cell_type": "markdown",
   "id": "18adc879-e1d7-4d70-881e-9f26e05fd929",
   "metadata": {},
   "source": [
    "The previous training shows that the current model only knows the state of the station right now. It has no sense of momentum or recent history.  Adding features that describe the recent past will give it a massive performance boost:\n",
    "- Lag Features: Create columns for what the available_rent_bikes were 5, 10, and 15 minutes ago.\n",
    "- Rolling Window Features: Create columns for the average, min, and max available_rent_bikes over the last 30 minutes or hour. This tells the model what the recent trend has been."
   ]
  },
  {
   "cell_type": "code",
   "execution_count": 3,
   "id": "7204cd76-7812-41d8-8dae-1353d8bbc32b",
   "metadata": {},
   "outputs": [
    {
     "name": "stdout",
     "output_type": "stream",
     "text": [
      "Engineering advanced features for column: available_rent_bikes\n",
      "Engineering advanced features for column: available_return_bikes\n",
      "\n",
      "Feature engineering complete.\n",
      "New DataFrame shape: (2165151, 37)\n"
     ]
    }
   ],
   "source": [
    "# Create Lag & Rolling Window Features\n",
    "features_to_engineer = ['available_rent_bikes', 'available_return_bikes']\n",
    "lag_steps = [1, 2, 3, 6] \n",
    "rolling_window_size = 6 \n",
    "\n",
    "for col in features_to_engineer:\n",
    "    print(f\"Engineering advanced features for column: {col}\")\n",
    "    for step in lag_steps:\n",
    "        df[f'{col}_lag_{step}'] = df.groupby('sno')[col].shift(step)\n",
    "    \n",
    "   \n",
    "    rolling_window = df.groupby('sno')[col].rolling(window=rolling_window_size)\n",
    "    df[f'{col}_rolling_mean'] = rolling_window.mean().values\n",
    "    df[f'{col}_rolling_std'] = rolling_window.std().values\n",
    "    df[f'{col}_rolling_min'] = rolling_window.min().values\n",
    "    df[f'{col}_rolling_max'] = rolling_window.max().values\n",
    "\n",
    "# Drop rows with NaN values created by the shifting and rolling operations\n",
    "df.dropna(inplace=True)\n",
    "\n",
    "print(\"\\nFeature engineering complete.\")\n",
    "print(\"New DataFrame shape:\", df.shape)"
   ]
  },
  {
   "cell_type": "markdown",
   "id": "56729cd7-9538-4126-9049-4b7d29f3f037",
   "metadata": {},
   "source": [
    "## Retraining the model"
   ]
  },
  {
   "cell_type": "markdown",
   "id": "858d0940-8829-4527-86cd-d0bbe1762b0e",
   "metadata": {},
   "source": [
    "In the initial model, the recall of \"FULL\" was too low, indicating that the model rarely predict the result as \"FULL\". Since the importance of this rare class in realizing our goal, we set parameter class_weight = 'balanced' to make the new model more sensitive to the rare classes."
   ]
  },
  {
   "cell_type": "code",
   "execution_count": 4,
   "id": "82b96109-a76b-4f4a-bdcb-9ceb311b5275",
   "metadata": {},
   "outputs": [],
   "source": [
    "import lightgbm as lgb\n",
    "from sklearn.model_selection import train_test_split\n",
    "from sklearn.metrics import classification_report, confusion_matrix\n",
    "import seaborn as sns\n",
    "import matplotlib.pyplot as plt"
   ]
  },
  {
   "cell_type": "markdown",
   "id": "e8558196-d922-4225-a0b8-afb2b1c32df8",
   "metadata": {},
   "source": [
    "### Step 1: Define Features (X) and Target (y)"
   ]
  },
  {
   "cell_type": "code",
   "execution_count": 5,
   "id": "826e478c-cee3-4dcb-a794-7b1232e7f576",
   "metadata": {},
   "outputs": [
    {
     "name": "stdout",
     "output_type": "stream",
     "text": [
      "Defining features and target...\n"
     ]
    }
   ],
   "source": [
    "features = [\n",
    "    'total', 'available_rent_bikes', 'latitude', 'longitude', 'available_return_bikes',\n",
    "    'hour', 'day_of_week', 'is_weekend',\n",
    "    'available_rent_bikes_lag_1', 'available_rent_bikes_lag_2', 'available_rent_bikes_lag_3', 'available_rent_bikes_lag_6',\n",
    "    'available_rent_bikes_rolling_mean', 'available_rent_bikes_rolling_std', 'available_rent_bikes_rolling_min', 'available_rent_bikes_rolling_max',\n",
    "    'available_return_bikes_lag_1', 'available_return_bikes_lag_2', 'available_return_bikes_lag_3', 'available_return_bikes_lag_6',\n",
    "    'available_return_bikes_rolling_mean', 'available_return_bikes_rolling_std', 'available_return_bikes_rolling_min', 'available_return_bikes_rolling_max'\n",
    "]\n",
    "target = 'status_in_15_mins'\n",
    "\n",
    "X = df[features]\n",
    "y = df[target]\n",
    "\n",
    "# Convert categorical target to numerical codes\n",
    "y = y.astype('category')\n",
    "label_map = dict(enumerate(y.cat.categories))\n",
    "y_codes = y.cat.codes"
   ]
  },
  {
   "cell_type": "markdown",
   "id": "b6965f35-5320-4e9d-894d-156c5963f263",
   "metadata": {},
   "source": [
    "### Step 2: Time-Based Data Split"
   ]
  },
  {
   "cell_type": "code",
   "execution_count": 8,
   "id": "9640e1e6-12d2-452d-9660-bd5f66d3aa39",
   "metadata": {},
   "outputs": [],
   "source": [
    "X_train, X_test, y_train, y_test = train_test_split(\n",
    "    X, y_codes, test_size=0.2, shuffle=False\n",
    ")"
   ]
  },
  {
   "cell_type": "markdown",
   "id": "616617be-4e31-4f03-97e0-59419d37f3e2",
   "metadata": {},
   "source": [
    "### Step 3: Train the Improved LightGBM Model"
   ]
  },
  {
   "cell_type": "code",
   "execution_count": 9,
   "id": "33912b8c-84a8-468d-92fa-0e7b32acb2ee",
   "metadata": {},
   "outputs": [
    {
     "name": "stdout",
     "output_type": "stream",
     "text": [
      "\n",
      "Training Improved LightGBM model...\n",
      "[LightGBM] [Info] Auto-choosing row-wise multi-threading, the overhead of testing was 0.057924 seconds.\n",
      "You can set `force_row_wise=true` to remove the overhead.\n",
      "And if memory is not enough, you can set `force_col_wise=true`.\n",
      "[LightGBM] [Info] Total Bins 2898\n",
      "[LightGBM] [Info] Number of data points in the train set: 1732120, number of used features: 24\n",
      "[LightGBM] [Info] Start training from score -1.386294\n",
      "[LightGBM] [Info] Start training from score -1.386294\n",
      "[LightGBM] [Info] Start training from score -1.386294\n",
      "[LightGBM] [Info] Start training from score -1.386294\n",
      "Model training complete.\n"
     ]
    }
   ],
   "source": [
    "print(\"\\nTraining Improved LightGBM model...\")\n",
    "# adding class_weight='balanced' to improve the precision of minority class\n",
    "lgb_clf_improved = lgb.LGBMClassifier(random_state=42, class_weight='balanced')\n",
    "lgb_clf_improved.fit(X_train, y_train)\n",
    "print(\"Model training complete.\")"
   ]
  },
  {
   "cell_type": "markdown",
   "id": "66ab84b3-8742-4d08-8cb8-edd6bc594f85",
   "metadata": {},
   "source": [
    "### Step 4: Evaluate the Improved Model"
   ]
  },
  {
   "cell_type": "code",
   "execution_count": 11,
   "id": "3b6dbce1-7df0-4a1f-81c8-335495967050",
   "metadata": {},
   "outputs": [
    {
     "name": "stdout",
     "output_type": "stream",
     "text": [
      "\n",
      "--- Improved Model Classification Report ---\n",
      "              precision    recall  f1-score   support\n",
      "\n",
      "       EMPTY       0.58      0.77      0.66     27282\n",
      "        FULL       0.20      0.90      0.32      9055\n",
      "     HEALTHY       0.97      0.82      0.89    314983\n",
      "         LOW       0.71      0.78      0.74     81711\n",
      "\n",
      "    accuracy                           0.81    433031\n",
      "   macro avg       0.61      0.82      0.65    433031\n",
      "weighted avg       0.88      0.81      0.83    433031\n",
      "\n",
      "\n",
      "--- Improved Model Confusion Matrix ---\n"
     ]
    },
    {
     "data": {
      "image/png": "[encoded data removed]",
      "text/plain": [
       "<Figure size 1000x700 with 2 Axes>"
      ]
     },
     "metadata": {},
     "output_type": "display_data"
    }
   ],
   "source": [
    "y_pred = lgb_clf_improved.predict(X_test)\n",
    "\n",
    "# Convert numerical predictions back to original labels\n",
    "y_test_labels = [label_map[i] for i in y_test]\n",
    "y_pred_labels = [label_map[i] for i in y_pred]\n",
    "\n",
    "# Print the classification report\n",
    "print(\"\\n--- Improved Model Classification Report ---\")\n",
    "print(classification_report(y_test_labels, y_pred_labels))\n",
    "\n",
    "# Display the confusion matrix\n",
    "print(\"\\n--- Improved Model Confusion Matrix ---\")\n",
    "cm = confusion_matrix(y_test_labels, y_pred_labels, labels=list(label_map.values()))\n",
    "plt.figure(figsize=(10, 7))\n",
    "sns.heatmap(cm, annot=True, fmt='d', xticklabels=list(label_map.values()), yticklabels=list(label_map.values()))\n",
    "plt.xlabel('Predicted')\n",
    "plt.ylabel('Actual')\n",
    "plt.title('Improved Model Confusion Matrix')\n",
    "plt.show()"
   ]
  }
 ],
 "metadata": {
  "kernelspec": {
   "display_name": "Python 3 (ipykernel)",
   "language": "python",
   "name": "python3"
  },
  "language_info": {
   "codemirror_mode": {
    "name": "ipython",
    "version": 3
   },
   "file_extension": ".py",
   "mimetype": "text/x-python",
   "name": "python",
   "nbconvert_exporter": "python",
   "pygments_lexer": "ipython3",
   "version": "3.11.9"
  }
 },
 "nbformat": 4,
 "nbformat_minor": 5
}
